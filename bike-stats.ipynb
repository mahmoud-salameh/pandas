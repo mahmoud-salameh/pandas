{
 "cells": [
  {
   "cell_type": "code",
   "execution_count": 1,
   "source": [
    "import pandas as pd\n",
    "import numpy as np"
   ],
   "outputs": [],
   "metadata": {}
  },
  {
   "cell_type": "code",
   "execution_count": 2,
   "source": [
    "df_trip = pd.read_csv('./trip.csv',error_bad_lines=False)\n",
    "df_whether = pd.read_csv('./weather.csv')\n",
    "df_station = pd.read_csv('./station.csv')"
   ],
   "outputs": [
    {
     "output_type": "stream",
     "name": "stderr",
     "text": [
      "/home/mahmoud/401-class/linear-regression/.venv/lib/python3.9/site-packages/IPython/core/interactiveshell.py:3441: FutureWarning: The error_bad_lines argument has been deprecated and will be removed in a future version.\n",
      "\n",
      "\n",
      "  exec(code_obj, self.user_global_ns, self.user_ns)\n",
      "b'Skipping line 50794: expected 12 fields, saw 20\\n'\n"
     ]
    }
   ],
   "metadata": {}
  },
  {
   "cell_type": "code",
   "execution_count": 3,
   "source": [
    "trip_duration_average=df_trip['tripduration'].mean()\n",
    "trip_duration_average"
   ],
   "outputs": [
    {
     "output_type": "execute_result",
     "data": {
      "text/plain": [
       "1178.2956753399776"
      ]
     },
     "metadata": {},
     "execution_count": 3
    }
   ],
   "metadata": {}
  },
  {
   "cell_type": "code",
   "execution_count": 4,
   "source": [
    "most_common_age= 2021-df_trip.birthyear.mode()[0]\n",
    "most_common_age"
   ],
   "outputs": [
    {
     "output_type": "execute_result",
     "data": {
      "text/plain": [
       "34.0"
      ]
     },
     "metadata": {},
     "execution_count": 4
    }
   ],
   "metadata": {}
  },
  {
   "cell_type": "code",
   "execution_count": 5,
   "source": [
    "df_whether\n",
    "average_precipitation_per_month=df_whether['Precipitation_In'].mean()*30\n",
    "median_precipitation=df_whether['Precipitation_In'].median()\n",
    "tuple_precipitation=(average_precipitation_per_month\n",
    ",median_precipitation)\n",
    "tuple_precipitation"
   ],
   "outputs": [
    {
     "output_type": "execute_result",
     "data": {
      "text/plain": [
       "(3.1519593613933234, 0.0)"
      ]
     },
     "metadata": {},
     "execution_count": 5
    }
   ],
   "metadata": {}
  },
  {
   "cell_type": "code",
   "execution_count": 6,
   "source": [
    "average_number_bikes= round(df_station['install_dockcount'].mean())\n",
    "average_number_bikes"
   ],
   "outputs": [
    {
     "output_type": "execute_result",
     "data": {
      "text/plain": [
       "18"
      ]
     },
     "metadata": {},
     "execution_count": 6
    }
   ],
   "metadata": {}
  },
  {
   "cell_type": "code",
   "execution_count": 7,
   "source": [
    "remove_nan_date = df_station[['modification_date','current_dockcount','install_dockcount']].dropna()\n",
    "station_is_modified = remove_nan_date['current_dockcount'].sum() - remove_nan_date['install_dockcount'].sum()\n",
    "print(station_is_modified)\n",
    "print('Because the install dockcount more than current dockcount so it will lose')"
   ],
   "outputs": [
    {
     "output_type": "stream",
     "name": "stdout",
     "text": [
      "-64\n",
      "Because the install dockcount more than current dockcount so it will lose\n"
     ]
    }
   ],
   "metadata": {}
  },
  {
   "cell_type": "code",
   "execution_count": 8,
   "source": [
    "average_max_temp=df_whether['Max_Temperature_F'].mean()\n",
    "average_max_temp"
   ],
   "outputs": [],
   "metadata": {}
  },
  {
   "cell_type": "code",
   "execution_count": null,
   "source": [
    "average_min_temp=df_whether['Min_TemperatureF'].mean()\n",
    "average_min_temp"
   ],
   "outputs": [
    {
     "output_type": "execute_result",
     "data": {
      "text/plain": [
       "49.45428156748911"
      ]
     },
     "metadata": {},
     "execution_count": 9
    }
   ],
   "metadata": {}
  },
  {
   "cell_type": "code",
   "execution_count": null,
   "source": [
    "trip_duration_median=df_trip['tripduration'].median()\n",
    "trip_duration_median"
   ],
   "outputs": [
    {
     "output_type": "execute_result",
     "data": {
      "text/plain": [
       "624.842"
      ]
     },
     "metadata": {},
     "execution_count": 10
    }
   ],
   "metadata": {}
  },
  {
   "cell_type": "code",
   "execution_count": null,
   "source": [
    "def test():\n",
    "\n",
    "    def assert_equal(actual,expected):\n",
    "        assert actual == expected, f\"Expected {expected} but got {actual}\"\n",
    "\n",
    "    assert_equal(trip_duration_average, 1178.2956753399776)\n",
    "    assert_equal(most_common_age, 34.0)\n",
    "    assert_equal(tuple_precipitation, (3.1519593613933234, 0.0))\n",
    "    assert_equal(average_number_bikes, 18)\n",
    "    assert_equal(station_is_modified, -64)\n",
    "    assert_equal(average_max_temp, 64.02757619738752)\n",
    "    assert_equal(average_min_temp, 49.45428156748911)\n",
    "    assert_equal(trip_duration_median, 624.842)\n",
    "\n",
    "\n",
    "    print(\"Success!!!\")\n",
    "\n",
    "test()"
   ],
   "outputs": [
    {
     "output_type": "stream",
     "name": "stdout",
     "text": [
      "Success!!!\n"
     ]
    }
   ],
   "metadata": {}
  }
 ],
 "metadata": {
  "orig_nbformat": 4,
  "language_info": {
   "name": "python",
   "version": "3.9.6",
   "mimetype": "text/x-python",
   "codemirror_mode": {
    "name": "ipython",
    "version": 3
   },
   "pygments_lexer": "ipython3",
   "nbconvert_exporter": "python",
   "file_extension": ".py"
  },
  "kernelspec": {
   "name": "python3",
   "display_name": "Python 3.9.6 64-bit ('.venv': poetry)"
  },
  "interpreter": {
   "hash": "6ac6590ce99f92b6d84142d6005d1cd066025c61144200ff47a5ccc8db2eacf6"
  }
 },
 "nbformat": 4,
 "nbformat_minor": 2
}